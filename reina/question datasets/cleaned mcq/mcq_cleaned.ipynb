{
 "cells": [
  {
   "cell_type": "code",
   "execution_count": 9,
   "id": "03103c00",
   "metadata": {},
   "outputs": [
    {
     "name": "stdout",
     "output_type": "stream",
     "text": [
      "✅ Done! Saved as mcq_cleaned.csv\n"
     ]
    }
   ],
   "source": [
    "import pandas as pd\n",
    "import re\n",
    "\n",
    "# Load original data\n",
    "df = pd.read_csv(\"Multiple-choice Question with a Single Correct Answer.csv\")\n",
    "\n",
    "# Cleaning function\n",
    "def extract_mcq(row):\n",
    "    qtext = row['question']\n",
    "    prompt = row['question_prompt']\n",
    "\n",
    "    # Extract main question\n",
    "    parts = re.split(r'\\nA\\.', qtext, maxsplit=1)\n",
    "    question_main = parts[0].strip()\n",
    "    \n",
    "    # Extract A–D\n",
    "    options_raw = 'A.' + parts[1] if len(parts) > 1 else ''\n",
    "    pattern = r'([A-D])\\.\\s(.*?)(?=\\n[A-D]\\.|\\Z)'\n",
    "    options = dict(re.findall(pattern, options_raw, re.DOTALL))\n",
    "    \n",
    "    # Extract E and remove from prompt\n",
    "    prompt_lines = prompt.strip().split('\\n')\n",
    "    option_e = ''\n",
    "    if prompt_lines and prompt_lines[0].strip().startswith(\"E.\"):\n",
    "        option_e = prompt_lines[0][2:].strip()\n",
    "        cleaned_prompt = \"\\n\".join(prompt_lines[1:]).strip()\n",
    "    else:\n",
    "        cleaned_prompt = prompt\n",
    "\n",
    "    return pd.Series({\n",
    "        'question': question_main,\n",
    "        'question_prompt': cleaned_prompt,\n",
    "        'A': options.get('A', ''),\n",
    "        'B': options.get('B', ''),\n",
    "        'C': options.get('C', ''),\n",
    "        'D': options.get('D', ''),\n",
    "        'E': option_e\n",
    "    })\n",
    "\n",
    "# Apply\n",
    "extracted_df = df.apply(extract_mcq, axis=1)\n",
    "\n",
    "# Merge cleaned fields\n",
    "final_df = pd.concat([\n",
    "    df[['qid', 'video_id', 'youtube_url', 'duration', 'question_type', 'capability']],\n",
    "    extracted_df\n",
    "], axis=1)\n",
    "\n",
    "# Save\n",
    "final_df.to_csv(\"mcq_cleaned.csv\", index=False)\n",
    "\n",
    "print(\"✅ Done! Saved as mcq_cleaned.csv\")"
   ]
  }
 ],
 "metadata": {
  "kernelspec": {
   "display_name": "Python 3",
   "language": "python",
   "name": "python3"
  },
  "language_info": {
   "codemirror_mode": {
    "name": "ipython",
    "version": 3
   },
   "file_extension": ".py",
   "mimetype": "text/x-python",
   "name": "python",
   "nbconvert_exporter": "python",
   "pygments_lexer": "ipython3",
   "version": "3.12.9"
  }
 },
 "nbformat": 4,
 "nbformat_minor": 5
}
