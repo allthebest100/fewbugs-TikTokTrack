{
 "cells": [
  {
   "cell_type": "code",
   "execution_count": 1,
   "id": "8038cc84",
   "metadata": {},
   "outputs": [
    {
     "name": "stdout",
     "output_type": "stream",
     "text": [
      "✅ Cleaning completed! Saved as 'mcq_cleaned.csv'\n"
     ]
    },
    {
     "name": "stderr",
     "output_type": "stream",
     "text": [
      "C:\\Users\\reina\\AppData\\Local\\Temp\\ipykernel_9276\\2648344996.py:34: SettingWithCopyWarning: \n",
      "A value is trying to be set on a copy of a slice from a DataFrame\n",
      "\n",
      "See the caveats in the documentation: https://pandas.pydata.org/pandas-docs/stable/user_guide/indexing.html#returning-a-view-versus-a-copy\n",
      "  final_df.rename(columns={'question_cleaned': 'question'}, inplace=True)\n"
     ]
    }
   ],
   "source": [
    "import pandas as pd\n",
    "import re\n",
    "\n",
    "# Load the original CSV\n",
    "df = pd.read_csv(\"Multiple-choice Question with a Single Correct Answer.csv\")\n",
    "\n",
    "# Function to extract question and options A-E\n",
    "def extract_mcq_components(row):\n",
    "    # Combine question and prompt to catch all options (especially E)\n",
    "    full_text = f\"{row['question']}\\n{row['question_prompt']}\"\n",
    "    \n",
    "    # Split into question and options based on line breaks and A-E markers\n",
    "    parts = re.split(r'\\n(?=[A-E]\\.)', full_text)\n",
    "    question_main = parts[0].strip()\n",
    "    options = {}\n",
    "\n",
    "    # Extract each option (A to E)\n",
    "    for part in parts[1:]:\n",
    "        match = re.match(r'([A-E])\\.\\s*(.*)', part.strip())\n",
    "        if match:\n",
    "            options[match.group(1)] = match.group(2)\n",
    "\n",
    "    # Return question + A-E options in order\n",
    "    return pd.Series([question_main] + [options.get(opt, \"\") for opt in ['A', 'B', 'C', 'D', 'E']])\n",
    "\n",
    "# Apply the function to the DataFrame\n",
    "df[['question_cleaned', 'A', 'B', 'C', 'D', 'E']] = df.apply(extract_mcq_components, axis=1)\n",
    "\n",
    "# Add a question prompt field (for prompting use)\n",
    "df['question_prompt'] = \"Select one best answer to the question below:\"\n",
    "\n",
    "# Keep only the relevant fields, and rename cleaned question column\n",
    "final_df = df[['qid', 'youtube_url', 'question_cleaned', 'question_prompt', 'A', 'B', 'C', 'D', 'E']]\n",
    "final_df.rename(columns={'question_cleaned': 'question'}, inplace=True)\n",
    "\n",
    "# Save to a new CSV file\n",
    "final_df.to_csv(\"mcq_cleaned.csv\", index=False)\n",
    "\n",
    "print(\"✅ Cleaning completed! Saved as 'mcq_cleaned.csv'\")"
   ]
  }
 ],
 "metadata": {
  "kernelspec": {
   "display_name": "Python 3",
   "language": "python",
   "name": "python3"
  },
  "language_info": {
   "codemirror_mode": {
    "name": "ipython",
    "version": 3
   },
   "file_extension": ".py",
   "mimetype": "text/x-python",
   "name": "python",
   "nbconvert_exporter": "python",
   "pygments_lexer": "ipython3",
   "version": "3.12.9"
  }
 },
 "nbformat": 4,
 "nbformat_minor": 5
}
