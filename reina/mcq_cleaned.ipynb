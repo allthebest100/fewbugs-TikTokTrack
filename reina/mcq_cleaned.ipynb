{
  "cells": [
    {
      "cell_type": "code",
      "execution_count": 1,
      "metadata": {
        "id": "A27eOFSA5R1u"
      },
      "outputs": [],
      "source": [
        "import pandas as pd\n",
        "import re\n",
        "\n",
        "df = pd.read_csv('mcq.csv')"
      ]
    },
    {
      "cell_type": "code",
      "execution_count": 4,
      "metadata": {},
      "outputs": [],
      "source": [
        "df_clean = df[['qid', 'youtube_url', 'question', 'question_prompt']].copy()\n",
        "\n",
        "# Extract A, B, C, D choices from 'question'\n",
        "def extract_abcd_from_question(q_text):\n",
        "    if not isinstance(q_text, str):\n",
        "        return [None] * 4\n",
        "    pattern = r\"A\\.\\s*(.*?)\\s*B\\.\\s*(.*?)\\s*C\\.\\s*(.*?)\\s*D\\.\\s*(.*?)\\s*(?=E\\.|$)\"\n",
        "    match = re.search(pattern, q_text, re.DOTALL)\n",
        "    if match:\n",
        "        return list(match.groups())\n",
        "    else:\n",
        "        return [None] * 4\n",
        "\n",
        "df_clean[['A', 'B', 'C', 'D']] = df_clean['question'].apply(lambda x: pd.Series(extract_abcd_from_question(x)))\n",
        "\n",
        "# Extract E from 'question_prompt'\n",
        "def extract_e_from_prompt(prompt):\n",
        "    if not isinstance(prompt, str):\n",
        "        return None\n",
        "    match = re.search(r\"E\\.\\s*(None of the above)\", prompt)\n",
        "    if match:\n",
        "        return match.group(1).strip()\n",
        "    return None\n",
        "\n",
        "df_clean['E'] = df_clean['question_prompt'].apply(extract_e_from_prompt)\n",
        "\n",
        "# Remove A–D part from question\n",
        "def remove_abcd_from_question(text):\n",
        "    if not isinstance(text, str):\n",
        "        return text\n",
        "    return re.split(r'\\bA\\.\\s*', text)[0].strip()\n",
        "\n",
        "df_clean['question'] = df_clean['question'].apply(remove_abcd_from_question)\n",
        "\n",
        "# Drop the 'question_prompt' column\n",
        "if 'question_prompt' in df_clean.columns:\n",
        "    df_clean = df_clean.drop(columns=['question_prompt'])"
      ]
    },
    {
      "cell_type": "code",
      "execution_count": 5,
      "metadata": {
        "colab": {
          "base_uri": "https://localhost:8080/"
        },
        "id": "gbuCtG2i5slA",
        "outputId": "64dd6d28-9ce5-4760-c78d-41fe7673cba3"
      },
      "outputs": [
        {
          "name": "stdout",
          "output_type": "stream",
          "text": [
            "Data has been saved as mcq_cleaned.csv\n"
          ]
        }
      ],
      "source": [
        "df_clean.to_csv('mcq_cleaned.csv', index=False)\n",
        "print(\"Data has been saved as mcq_cleaned.csv\")"
      ]
    },
    {
      "cell_type": "code",
      "execution_count": null,
      "metadata": {
        "id": "Q-e3uVqv5snV"
      },
      "outputs": [],
      "source": []
    }
  ],
  "metadata": {
    "colab": {
      "provenance": []
    },
    "kernelspec": {
      "display_name": "Python 3",
      "name": "python3"
    },
    "language_info": {
      "codemirror_mode": {
        "name": "ipython",
        "version": 3
      },
      "file_extension": ".py",
      "mimetype": "text/x-python",
      "name": "python",
      "nbconvert_exporter": "python",
      "pygments_lexer": "ipython3",
      "version": "3.12.9"
    }
  },
  "nbformat": 4,
  "nbformat_minor": 0
}
