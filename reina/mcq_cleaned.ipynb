{
 "cells": [
  {
   "cell_type": "code",
   "execution_count": 1,
   "id": "e37a5df9",
   "metadata": {},
   "outputs": [
    {
     "name": "stdout",
     "output_type": "stream",
     "text": [
      "✅ Cleaning completed! Saved as 'mcq_cleaned.csv'\n"
     ]
    }
   ],
   "source": [
    "import pandas as pd\n",
    "import re\n",
    "\n",
    "# Load your original CSV\n",
    "df = pd.read_csv(\"Multiple-choice Question with a Single Correct Answer.csv\")\n",
    "\n",
    "# Function to split main question and choices A–E from the \"question\" field\n",
    "def split_question_and_choices(qtext):\n",
    "    # Split the question body from the options\n",
    "    question_match = re.split(r'\\nA\\.', qtext, maxsplit=1)\n",
    "    question_main = question_match[0].strip() if question_match else qtext\n",
    "\n",
    "    # Capture options A to E\n",
    "    options_text = 'A.' + question_match[1] if len(question_match) > 1 else ''\n",
    "    pattern = r'([A-E])\\.\\s(.*?)(?=\\n[A-E]\\.|$)'\n",
    "    options = dict(re.findall(pattern, options_text, re.DOTALL))\n",
    "\n",
    "    # Ensure all options A to E are included, even if missing\n",
    "    all_options = {k: options.get(k, '') for k in ['A', 'B', 'C', 'D', 'E']}\n",
    "    \n",
    "    return pd.Series([question_main] + list(all_options.values()))\n",
    "\n",
    "# Apply the function to create new columns\n",
    "df[['question_main', 'A', 'B', 'C', 'D', 'E']] = df['question'].apply(split_question_and_choices)\n",
    "\n",
    "# Select and rename the final columns\n",
    "final_df = df[[\n",
    "    'qid', 'video_id', 'youtube_url', 'duration',\n",
    "    'question_type', 'capability',\n",
    "    'question_main', 'question_prompt', 'A', 'B', 'C', 'D', 'E'\n",
    "]]\n",
    "final_df = final_df.rename(columns={\"question_main\": \"question\"})\n",
    "\n",
    "# Save the cleaned data to a new CSV file\n",
    "final_df.to_csv(\"mcq_cleaned.csv\", index=False)\n",
    "\n",
    "print(\"✅ Cleaning completed! Saved as 'mcq_cleaned.csv'\")"
   ]
  }
 ],
 "metadata": {
  "kernelspec": {
   "display_name": "Python 3",
   "language": "python",
   "name": "python3"
  },
  "language_info": {
   "codemirror_mode": {
    "name": "ipython",
    "version": 3
   },
   "file_extension": ".py",
   "mimetype": "text/x-python",
   "name": "python",
   "nbconvert_exporter": "python",
   "pygments_lexer": "ipython3",
   "version": "3.12.9"
  }
 },
 "nbformat": 4,
 "nbformat_minor": 5
}
